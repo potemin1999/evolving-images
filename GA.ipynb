{
 "cells": [
  {
   "cell_type": "markdown",
   "metadata": {},
   "source": [
    "### Imports and parameters"
   ]
  },
  {
   "cell_type": "code",
   "execution_count": 1,
   "metadata": {},
   "outputs": [
    {
     "name": "stdout",
     "output_type": "stream",
     "text": [
      "[600, 800]\n"
     ]
    }
   ],
   "source": [
    "import cv2 as cv\n",
    "import copy as cp\n",
    "import numpy as np\n",
    "import numpy.random as rnd\n",
    "import scipy.spatial.distance as scidst\n",
    "from skimage.measure import compare_mse\n",
    "from timeit import default_timer as timer\n",
    "\n",
    "sources = [\n",
    "    [\"source_img.png\",512,512], #0\n",
    "    [\"w3_tower.png\",512,512],   #1\n",
    "    [\"lisa.jpg\",512,512],       #2\n",
    "    [\"star_sky.jpg\",512,512],   #3\n",
    "    [\"penguin.jpeg\",512,512],   #4\n",
    "    [\"w3_ciri.png\",1920,1080],   #5\n",
    "    [\"w3_ciri_small.png\"],        #6\n",
    "    [\"target_star.png\"],   #7\n",
    "    [\"btf_wing.jpg\"]       #8\n",
    "]\n",
    "source = sources[8]\n",
    "source_image_name = source[0]\n",
    "source_image = cv.imread(\"./res/{}\".format(source_image_name))\n",
    "source_image_size = [source_image.shape[1],source_image.shape[0]]\n",
    "\n",
    "print(source_image_size)\n",
    "\n",
    "saving_interval = int(50000000/(source_image_size[0]*source_image_size[1]))\n",
    "\n",
    "generation_size = 5\n",
    "max_generation_cycles = 500\n",
    "mutation_chance = 0.25\n",
    "mutation_speed = 10.0\n",
    "mutation_amount = 10\n",
    "crossover_amount = 0.5 #percents\n",
    "selection_percent = 0.8\n",
    "\n",
    "#source_image_arr = np.array(source_image).reshape(512*512*4)\n",
    "#source_image_norm = np.sum(source_image_arr)"
   ]
  },
  {
   "cell_type": "markdown",
   "metadata": {},
   "source": [
    "### Image Utils"
   ]
  },
  {
   "cell_type": "code",
   "execution_count": 2,
   "metadata": {},
   "outputs": [],
   "source": [
    "def get_random_color():\n",
    "    return (np.random.randint(256), np.random.randint(256),np.random.randint(256))#np.random.randint(256))#,transparency)"
   ]
  },
  {
   "cell_type": "markdown",
   "metadata": {},
   "source": [
    "### Mutations"
   ]
  },
  {
   "cell_type": "code",
   "execution_count": 3,
   "metadata": {},
   "outputs": [],
   "source": [
    "class CircleMutation:\n",
    "    \n",
    "    def __init__(self,x,y,radius,color):\n",
    "        self.x, self.y = int(x), int(y)\n",
    "        self.radius = int(radius)\n",
    "        self.color = color\n",
    "        \n",
    "    def apply(self,genes):\n",
    "        cv.circle(genes,(self.x,self.y),self.radius,self.color,thickness=cv.FILLED)\n",
    "    \n",
    "    @staticmethod\n",
    "    def generate_random():\n",
    "        w,h = source_image_size[0],source_image_size[1]\n",
    "        x = np.random.randint(0,w)\n",
    "        y = np.random.randint(0,h)\n",
    "        #r = np.random.exponential(20,4)\n",
    "        r = np.random.randint(0,8)\n",
    "        gene = CircleMutation(x,y,r,get_random_color())\n",
    "        return gene\n",
    "    \n",
    "    \n",
    "class PolygonMutation:\n",
    "    \n",
    "    def __init__(self,points,color):\n",
    "        self.points = points\n",
    "        self.color = color\n",
    "    \n",
    "    def apply(self,genes):\n",
    "        cv.fillPoly(genes,[self.points],self.color)\n",
    "        \n",
    "    @staticmethod\n",
    "    def generate_random():\n",
    "        vertices = 3\n",
    "        w,h = source_image_size[0],source_image_size[1]\n",
    "        rnd_point = [np.random.uniform(0,w),np.random.uniform(0,h)]\n",
    "        size = [12,16]\n",
    "        points = []\n",
    "        for i in range(vertices):\n",
    "            point_x = int(rnd_point[0]+np.random.uniform(-1,1)*size[0])\n",
    "            point_y = int(rnd_point[1]+np.random.uniform(-1,1)*size[1])\n",
    "            points.append([point_x,point_y])\n",
    "        return PolygonMutation(np.array(points,dtype=np.int32),get_random_color())\n",
    "    \n",
    "    \n",
    "class SquareMutation:\n",
    "    \n",
    "    def __init__(self,x,y,side,color):\n",
    "        self.x, self.y = int(x), int(y)\n",
    "        self.hside = int(side/2)\n",
    "        self.color = color\n",
    "        \n",
    "    def apply(self,genes):\n",
    "        start_point = (self.x-self.hside,self.y-self.hside)\n",
    "        end_point = (self.x+self.hside,self.y+self.hside)\n",
    "        cv.rectangle(genes,start_point,end_point,self.color,thickness=cv.FILLED)\n",
    "    \n",
    "    @staticmethod\n",
    "    def generate_random():\n",
    "        w,h = source_image_size[0],source_image_size[1]\n",
    "        x = np.random.randint(0,w)\n",
    "        y = np.random.randint(0,h)\n",
    "        side = np.random.randint(0,8)\n",
    "        gene = SquareMutation(x,y,side,get_random_color())\n",
    "        return gene"
   ]
  },
  {
   "cell_type": "markdown",
   "metadata": {},
   "source": [
    "### Chromosome"
   ]
  },
  {
   "cell_type": "code",
   "execution_count": 4,
   "metadata": {},
   "outputs": [],
   "source": [
    "class Chromosome:\n",
    "    \n",
    "    def __init__(self,genes=None):\n",
    "        if genes is None:\n",
    "            genes = cv.imread(\"./out/latest_{}.png\".format(source_image_name))\n",
    "        if genes is None:\n",
    "            genes = np.zeros_like(source_image)\n",
    "        self.genes = genes\n",
    "        self.fitness = Chromosome.compute_fitness(self.genes)\n",
    "    \n",
    "    def mutate(self):\n",
    "        for i in range(4):\n",
    "            t0 = timer()\n",
    "            choice = np.random.randint(0,3)\n",
    "            mutation = None\n",
    "            if choice==0:\n",
    "                mutation = CircleMutation.generate_random()\n",
    "            if choice==1:\n",
    "                mutation = SquareMutation.generate_random()\n",
    "            if choice==2:\n",
    "                mutation = PolygonMutation.generate_random()\n",
    "            new_genes = self.genes.copy()\n",
    "            mutation.apply(new_genes)\n",
    "            new_fitness = Chromosome.compute_fitness(new_genes)\n",
    "            if new_fitness > self.fitness:\n",
    "                self.genes = new_genes\n",
    "                self.fitness = new_fitness\n",
    "    \n",
    "    @staticmethod\n",
    "    def cross(chr1,chr2):\n",
    "        w_sum = chr1.fitness + chr2.fitness\n",
    "        w1, w2 = chr1.fitness/w_sum, chr2.fitness/ w_sum\n",
    "        result = cv.addWeighted(chr1.genes,w1,chr2.genes,w2,0)\n",
    "        #result = cv.addWeighted(chr1.genes,0.5,chr2.genes,0.5,0)\n",
    "        return Chromosome(result)\n",
    "    \n",
    "    @staticmethod\n",
    "    def compute_fitness(genes,target=source_image):\n",
    "        return 1/(1 + compare_mse(source_image,genes))\n",
    "    \n",
    "    def __lt__(self, other):\n",
    "        return self.fitness < other.fitness\n",
    "            \n",
    "    def __eq__(self, other):\n",
    "        return self.fitness == other.fitness\n",
    "    \n",
    "    \n",
    "p_mutate = np.vectorize(Chromosome.mutate)"
   ]
  },
  {
   "cell_type": "markdown",
   "metadata": {},
   "source": [
    "### GA Engine"
   ]
  },
  {
   "cell_type": "code",
   "execution_count": 5,
   "metadata": {},
   "outputs": [],
   "source": [
    "def do_mutate(generation):\n",
    "    p_mutate(generation)\n",
    "    #for i in range(len(generation)):\n",
    "     #   generation[i].mutate()\n",
    "      \n",
    "    \n",
    "def do_crossover(generation,crossover_percent=0.7):\n",
    "    limit = int(np.ceil(crossover_percent*len(generation)))\n",
    "    result_generation = []\n",
    "    for i in range(1,limit):\n",
    "        result_generation.append(Chromosome.cross(generation[i-1],generation[i]))\n",
    "    return result_generation\n",
    "\n",
    "\n",
    "def do_select(generation,select_percent=0.8):\n",
    "    limit = int(np.ceil(select_percent*len(generation)))\n",
    "    generation[::-1].sort()\n",
    "    return generation[:limit]\n",
    "\n",
    "\n",
    "def do_simulate(population_size = 40,population_limit=200000):\n",
    "    generation = np.array([Chromosome() for i in range(population_size)])\n",
    "    best_image = generation[0].genes\n",
    "    best_fitness = generation[0].fitness\n",
    "    for i in range(population_limit):\n",
    "        t1 = timer()\n",
    "        new_generation = do_crossover(generation,0.6)\n",
    "        t2 = timer()\n",
    "        generation = np.concatenate((generation,new_generation))\n",
    "        t3 = timer()\n",
    "        do_mutate(generation)\n",
    "        t4 = timer()\n",
    "        generation = do_select(generation,0.8)\n",
    "        t5 = timer()\n",
    "        #rint(\"Crossover     time : {}\".format(t2-t1)), print(\"Concatenation time : {}\".format(t3-t2)), print(\"Mutation      time : {}\".format(t4-t3)), int(\"Selection     time : {}\".format(t5-t4))\n",
    "        if generation[0].fitness > best_fitness:\n",
    "            best_fitness = generation[0].fitness\n",
    "            best_image = generation[0].genes\n",
    "        if len(generation) > population_size:\n",
    "            generation = generation[:population_size]\n",
    "        print(\"Generation {} : best fitness {}\".format(i,best_fitness))\n",
    "        #if i % 10 == 0:\n",
    "          #  cv.imwrite(\"./out/result{}.png\".format(i),best_image)\n",
    "        if i % saving_interval == 0:\n",
    "            cv.imwrite(\"./out/latest_{}.png\".format(source_image_name),best_image)\n",
    "            print(\"Saved\")"
   ]
  },
  {
   "cell_type": "markdown",
   "metadata": {},
   "source": [
    "### Main"
   ]
  },
  {
   "cell_type": "code",
   "execution_count": 6,
   "metadata": {},
   "outputs": [
    {
     "name": "stdout",
     "output_type": "stream",
     "text": [
      "Generation 0 : best fitness 0.000312154046065568\n",
      "Saved\n",
      "Generation 1 : best fitness 0.0003121541040560005\n",
      "Generation 2 : best fitness 0.0003121676683867728\n"
     ]
    }
   ],
   "source": [
    "def main():\n",
    "    try:\n",
    "        chromosome = do_simulate(population_size=3)\n",
    "        return chromosome.image\n",
    "    except KeyboardInterrupt:\n",
    "        return None\n",
    "    \n",
    "main()"
   ]
  },
  {
   "cell_type": "code",
   "execution_count": null,
   "metadata": {},
   "outputs": [],
   "source": []
  }
 ],
 "metadata": {
  "kernelspec": {
   "display_name": "Python 3",
   "language": "python",
   "name": "python3"
  },
  "language_info": {
   "codemirror_mode": {
    "name": "ipython",
    "version": 3
   },
   "file_extension": ".py",
   "mimetype": "text/x-python",
   "name": "python",
   "nbconvert_exporter": "python",
   "pygments_lexer": "ipython3",
   "version": "3.7.1"
  }
 },
 "nbformat": 4,
 "nbformat_minor": 2
}
