{
 "cells": [
  {
   "cell_type": "markdown",
   "metadata": {},
   "source": [
    "### Imports"
   ]
  },
  {
   "cell_type": "code",
   "execution_count": 121,
   "metadata": {},
   "outputs": [],
   "source": [
    "import numpy as np\n",
    "import numpy.random as rnd\n",
    "import PIL.Image as img\n",
    "import PIL.ImageDraw as imgdr"
   ]
  },
  {
   "cell_type": "markdown",
   "metadata": {},
   "source": [
    "### Parameters"
   ]
  },
  {
   "cell_type": "code",
   "execution_count": 142,
   "metadata": {},
   "outputs": [],
   "source": [
    "source_image = img.open(\"./source_img.png\")\n",
    "\n",
    "generation_size = 100\n",
    "max_generation_cycles = 500\n",
    "\n",
    "mutation_chance = 0.5\n",
    "mutation_speed = 10.0\n",
    "selection_percent = 0.8\n"
   ]
  },
  {
   "cell_type": "markdown",
   "metadata": {},
   "source": [
    "### Image Utils"
   ]
  },
  {
   "cell_type": "code",
   "execution_count": 96,
   "metadata": {},
   "outputs": [],
   "source": [
    "def distance(image1,image2):\n",
    "    return np.sum(np.absolute(image2 - image1))\n",
    "\n",
    "def get_random_color(transparency = np.random.randint(255)):\n",
    "    return (np.random.randint(255), np.random.randint(255),np.random.randint(255),transparency)"
   ]
  },
  {
   "cell_type": "markdown",
   "metadata": {},
   "source": [
    "### Chromosome"
   ]
  },
  {
   "cell_type": "code",
   "execution_count": 140,
   "metadata": {},
   "outputs": [
    {
     "name": "stdout",
     "output_type": "stream",
     "text": [
      "0.0006010801289701568\n"
     ]
    },
    {
     "data": {
      "image/png": "[encoded data removed]",
      "text/plain": [
       "<PIL.Image.Image image mode=RGBA size=512x512 at 0x7F0F34476C18>"
      ]
     },
     "execution_count": 140,
     "metadata": {},
     "output_type": "execute_result"
    }
   ],
   "source": [
    "class Gene:\n",
    "    \n",
    "    @staticmethod\n",
    "    def generate_random():\n",
    "        pass\n",
    "    \n",
    "    def draw_at(self,canvas):\n",
    "        pass\n",
    "    \n",
    "    def mutate(self):\n",
    "        pass\n",
    "        \n",
    "class CircleGene:\n",
    "    \n",
    "    def __init__(self,x,y,radius,color):\n",
    "        self.x, self.y = x, y\n",
    "        self.radius = radius\n",
    "        self.color = color\n",
    "        self.fitness = -1\n",
    "        \n",
    "    def draw_at(self,canvas):\n",
    "        x, y = self.x, self.y\n",
    "        r, c = self.radius, self.color\n",
    "        canvas.ellipse((x-r,y-r,x+r,y+r),fill=c)\n",
    "        \n",
    "    def mutate(self):\n",
    "        self.x += (rnd.rand()-0.5 ) * 5 * mutation_speed\n",
    "        self.y += (rnd.rand()-0.5 ) * 5 * mutation_speed\n",
    "        self.radius += (rnd.rand()-0.5) * 40 * mutation_speed\n",
    "        self.color = get_random_color()\n",
    "        \n",
    "    @staticmethod\n",
    "    def generate_random(image):\n",
    "        w,h = image.size\n",
    "        x = np.random.uniform(0,w)\n",
    "        y = np.random.uniform(0,h)\n",
    "        r = np.random.uniform(0,100)\n",
    "        gene = CircleGene(x,y,r,get_random_color())\n",
    "        return gene\n",
    "        \n",
    "        \n",
    "class Chromosome:\n",
    "    \n",
    "    def __init__(self,genes = [],genes_count = 600):\n",
    "        self.genes = genes\n",
    "        self.fitness = -1\n",
    "        self.genes_count = genes_count\n",
    "        \n",
    "    @staticmethod\n",
    "    def generate_random(image,genes_count=600):\n",
    "        chromosome = Chromosome(genes_count=genes_count)\n",
    "        for i in range(chromosome.genes_count):\n",
    "            gene = CircleGene.generate_random(image)\n",
    "            chromosome.genes.append(gene)\n",
    "        return chromosome\n",
    "    \n",
    "    def get_fitness(self,target_image):\n",
    "        if self.fitness != -1:\n",
    "            return self.fitness\n",
    "        w,h = target_image.size\n",
    "        self.image = img.fromarray(np.zeros((w,h,4)).astype('uint8'))\n",
    "        canvas = imgdr.Draw(self.image, 'RGBA')\n",
    "        for i in range(self.genes_count):\n",
    "            self.genes[i].draw_at(canvas)\n",
    "        dist = distance(np.array(target_image),np.array(self.image))\n",
    "        return 100000/(100000 + dist)\n",
    "            \n",
    "    \n",
    "ch = Chromosome.generate_random(source_image)\n",
    "print(ch.get_fitness(source_image))\n",
    "ch.image"
   ]
  },
  {
   "cell_type": "code",
   "execution_count": null,
   "metadata": {},
   "outputs": [],
   "source": []
  },
  {
   "cell_type": "markdown",
   "metadata": {},
   "source": [
    "### GA"
   ]
  },
  {
   "cell_type": "code",
   "execution_count": 141,
   "metadata": {},
   "outputs": [
    {
     "name": "stdout",
     "output_type": "stream",
     "text": [
      "0.001123159240281612\n"
     ]
    }
   ],
   "source": [
    "def mutate(chromosome):\n",
    "    r = rnd.rand()\n",
    "    if r >= mutation_chance: \n",
    "        return\n",
    "    chromosome.fitness = -1\n",
    "    index = rnd.randint(0, chromosome.genes_count)\n",
    "    chromosome.genes[index].mutate()\n",
    "    chromosome.get_fitness(source_image)\n",
    "\n",
    "def crossover(chromosome1,chromosome2):\n",
    "    if chromosome1.genes_count != chromosome2.genes_count:\n",
    "        return (chromosome1,chromosome2)\n",
    "    int crossover_point = rnd.randint(chromosome1.genes_count)\n",
    "    for i in range(crossover_point);\n",
    "        chromosome1.genes[i], chromosome2.genes[i] = chromosome2.genes[i], chromosome1.genes[i];\n",
    "    return (chromosome1, chromosome2)\n",
    "\n",
    "def select(chromosome1):\n",
    "    pass\n",
    "\n",
    "ch = Chromosome.generate_random(source_image,genes_count=10)\n",
    "print(ch.get_fitness(source_image))\n",
    "ch.image.show()\n",
    "mutate(ch)\n",
    "ch.image.show()\n",
    "mutate(ch)"
   ]
  },
  {
   "cell_type": "code",
   "execution_count": null,
   "metadata": {},
   "outputs": [],
   "source": []
  },
  {
   "cell_type": "markdown",
   "metadata": {},
   "source": [
    "### Main"
   ]
  },
  {
   "cell_type": "code",
   "execution_count": 11,
   "metadata": {},
   "outputs": [
    {
     "ename": "SyntaxError",
     "evalue": "unexpected EOF while parsing (<ipython-input-11-2614a9931e91>, line 2)",
     "output_type": "error",
     "traceback": [
      "\u001b[0;36m  File \u001b[0;32m\"<ipython-input-11-2614a9931e91>\"\u001b[0;36m, line \u001b[0;32m2\u001b[0m\n\u001b[0;31m    \u001b[0m\n\u001b[0m    ^\u001b[0m\n\u001b[0;31mSyntaxError\u001b[0m\u001b[0;31m:\u001b[0m unexpected EOF while parsing\n"
     ]
    }
   ],
   "source": [
    "def __init__(self):\n",
    "    "
   ]
  }
 ],
 "metadata": {
  "kernelspec": {
   "display_name": "Python 3",
   "language": "python",
   "name": "python3"
  },
  "language_info": {
   "codemirror_mode": {
    "name": "ipython",
    "version": 3
   },
   "file_extension": ".py",
   "mimetype": "text/x-python",
   "name": "python",
   "nbconvert_exporter": "python",
   "pygments_lexer": "ipython3",
   "version": "3.7.1"
  }
 },
 "nbformat": 4,
 "nbformat_minor": 2
}
